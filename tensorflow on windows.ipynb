{
 "cells": [
  {
   "cell_type": "markdown",
   "metadata": {},
   "source": [
    "### 基于 windows 的 tensorflow 环境配置"
   ]
  },
  {
   "cell_type": "markdown",
   "metadata": {},
   "source": [
    "#### 1. 安装"
   ]
  },
  {
   "cell_type": "markdown",
   "metadata": {},
   "source": [
    "安装时首先应安装好 anaconda ，我安装的是基于 python3.5 的 anaconda。\n",
    "安装好之后再命令行启动 jupyter notebook。\n",
    "关于 jupyter notebook 的根目录设置有一个简单实用的方法，下面给出链接：https://app.yinxiang.com/shard/s6/nl/473704/55f31c0a-96e8-49ce-b62a-f21f3a21bafd\n",
    "\n",
    "配置好环境之后，直接使用 pip 即可安装新版的 tensorflow，在 cmd 中输入\n",
    "\n",
    "```\n",
    "> pip install tensorflow\n",
    "\n",
    "```"
   ]
  },
  {
   "cell_type": "markdown",
   "metadata": {},
   "source": [
    "#### 1.2 pip 速度优化"
   ]
  },
  {
   "cell_type": "markdown",
   "metadata": {},
   "source": [
    "同时，因为 pip 的网络状况并不好，所以推荐换源从而加速 pip 安装速度。\n",
    "教程链接：https://app.yinxiang.com/shard/s6/nl/473704/66eb6ac1-2aa1-487f-b6c2-2a0d15139e3c"
   ]
  },
  {
   "cell_type": "code",
   "execution_count": null,
   "metadata": {
    "collapsed": true
   },
   "outputs": [],
   "source": []
  }
 ],
 "metadata": {
  "kernelspec": {
   "display_name": "Python 3",
   "language": "python",
   "name": "python3"
  },
  "language_info": {
   "codemirror_mode": {
    "name": "ipython",
    "version": 3
   },
   "file_extension": ".py",
   "mimetype": "text/x-python",
   "name": "python",
   "nbconvert_exporter": "python",
   "pygments_lexer": "ipython3",
   "version": "3.5.2"
  }
 },
 "nbformat": 4,
 "nbformat_minor": 0
}
